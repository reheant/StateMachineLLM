{
 "cells": [
  {
   "cell_type": "code",
   "execution_count": 1,
   "id": "27fdf340-ba53-4413-b5bc-b4e3e890ee30",
   "metadata": {},
   "outputs": [],
   "source": [
    "%load_ext autoreload\n",
    "%autoreload 2"
   ]
  },
  {
   "cell_type": "code",
   "execution_count": 29,
   "id": "7319b051-163b-4db7-9dae-b67bb58aaea1",
   "metadata": {},
   "outputs": [],
   "source": [
    "from sherpa_ai.memory.belief import Belief\n",
    "from sherpa_ai.memory.state_machine import SherpaStateMachine\n",
    "from transitions.extensions import HierarchicalGraphMachine\n",
    "from sherpa_ai.models import SherpaChatOpenAI\n",
    "from sherpa_ai.policies.react_policy import ReactPolicy\n",
    "from sherpa_ai.agents.qa_agent import QAAgent\n",
    "from sherpa_ai.events import Event, EventType"
   ]
  },
  {
   "cell_type": "code",
   "execution_count": null,
   "id": "bff9b9fc-ad79-4c64-a6c0-41787a3e1045",
   "metadata": {},
   "outputs": [],
   "source": [
    "from sherpa_ai.actions.base import BaseAction\n",
    "\n",
    "class HelloWorld(BaseAction):\n",
    "    name: str = \"print_hello_world\"\n",
    "    args: dict = {\"name\": \"the name of the person doing hello world (str)\"}\n",
    "    usage: str = \"print hello world given a name\"\n",
    "\n",
    "    def execute(self, name: str):\n",
    "        print(f\"Hello World from {name}\")\n",
    "        return f\"{name}\"\n",
    "\n",
    "class Addition(BaseAction):\n",
    "    name: str = \"perform_addition\"\n",
    "    args: dict = {\"num1\": \"the first number (int)\", \"num2\": \"the second number (int)\"}\n",
    "    usage: str = \"Add two numbers together\"\n",
    "\n",
    "    def execute(self, num1: int, num2: int):\n",
    "        result = num1 + num2\n",
    "        print(f\"Result: {result} for {self.belief.get('print_hello_world')}\")\n",
    "        return result"
   ]
  },
  {
   "cell_type": "code",
   "execution_count": 18,
   "id": "745aa03e-bfdd-4103-9224-510838c86522",
   "metadata": {},
   "outputs": [],
   "source": [
    "belief = Belief()\n",
    "hello_action = HelloWorld(usage=\"performing hello world\", belief=belief)\n",
    "addition_action = Addition(belief=belief)\n",
    "\n",
    "action_map = {\n",
    "    hello_action.name: hello_action,\n",
    "    addition_action.name: addition_action\n",
    "}"
   ]
  },
  {
   "cell_type": "code",
   "execution_count": 19,
   "id": "fa162514-c61b-4405-9d39-f8076d5cd937",
   "metadata": {},
   "outputs": [],
   "source": [
    "states = [\"HelloWorld\", \"Calculate\", \"Done\"]\n",
    "initial = \"HelloWorld\"\n",
    "transitions = [{\n",
    "    \"trigger\": \"do_hello_world\",\n",
    "    \"source\": \"HelloWorld\",\n",
    "    \"dest\": \"Calculate\",\n",
    "    \"before\": \"print_hello_world\",\n",
    "},\n",
    "{\n",
    "    \"trigger\": \"do_nothing\",\n",
    "    \"source\": \"HelloWorld\",\n",
    "    \"dest\": \"Done\",\n",
    "},\n",
    "{\n",
    "    \"trigger\": \"add_numbers\",\n",
    "    \"source\": \"Calculate\",\n",
    "    \"dest\": \"Done\",\n",
    "    \"before\": \"perform_addition\"\n",
    "}]"
   ]
  },
  {
   "cell_type": "code",
   "execution_count": 20,
   "id": "2f512a8c-3ccb-4c62-9706-eff26f590b5c",
   "metadata": {},
   "outputs": [],
   "source": [
    "sm = SherpaStateMachine(\n",
    "    states=states,\n",
    "    transitions=transitions,\n",
    "    initial=initial,\n",
    "    action_map=action_map,\n",
    "    sm_cls=HierarchicalGraphMachine,\n",
    ")\n",
    "belief.state_machine = sm\n",
    "print(sm.sm.get_graph().draw(None))"
   ]
  },
  {
   "cell_type": "code",
   "execution_count": 21,
   "id": "6efaa959-7611-4056-b671-ce6e10f5573c",
   "metadata": {},
   "outputs": [],
   "source": [
    "llm = SherpaChatOpenAI(model_name=\"gpt-4o-mini\", temperature=0.7)\n",
    "policy = ReactPolicy(\n",
    "    role_description=\"Help the user finish the task\",\n",
    "    output_instruction=\"Determine which action and arguments would be the best continuing the task\",\n",
    "    llm=llm,\n",
    ")"
   ]
  },
  {
   "cell_type": "code",
   "execution_count": 22,
   "id": "a888c833-36dd-4792-8903-0959db7b8760",
   "metadata": {},
   "outputs": [],
   "source": [
    "belief.get_actions()"
   ]
  },
  {
   "cell_type": "code",
   "execution_count": 23,
   "id": "8933d05a-0d4b-4290-8821-502954416af5",
   "metadata": {},
   "outputs": [],
   "source": [
    "qa_agent = QAAgent(llm=llm, belief=belief, num_runs=3, policy=policy)"
   ]
  },
  {
   "cell_type": "code",
   "execution_count": 24,
   "id": "be7f03f9-cfeb-409f-977d-1be1ffe93eb6",
   "metadata": {},
   "outputs": [],
   "source": [
    "belief.set_current_task(Event(EventType.task, \"user\", \"User is Gunter. 10. 20.\"))"
   ]
  },
  {
   "cell_type": "code",
   "execution_count": 25,
   "id": "f8218996-703f-43a7-bdc8-a8204382040a",
   "metadata": {
    "scrolled": true
   },
   "outputs": [],
   "source": [
    "print(qa_agent.run())"
   ]
  },
  {
   "cell_type": "code",
   "execution_count": 26,
   "id": "1425b963-6c37-4126-8051-f2851567e3f6",
   "metadata": {},
   "outputs": [],
   "source": [
    "[str(event) for event in belief.internal_events]"
   ]
  },
  {
   "cell_type": "code",
   "execution_count": 29,
   "id": "7319b051-163b-4db7-9dae-b67bb58aaea1",
   "metadata": {},
   "outputs": [],
   "source": [
    "from sherpa_ai.memory.belief import Belief\n",
    "from sherpa_ai.memory.state_machine import SherpaStateMachine\n",
    "from transitions.extensions import HierarchicalGraphMachine\n",
    "from sherpa_ai.models import SherpaChatOpenAI\n",
    "from sherpa_ai.policies.react_policy import ReactPolicy\n",
    "from sherpa_ai.agents.qa_agent import QAAgent\n",
    "from sherpa_ai.events import Event, EventType"
   ]
  },
  {
   "cell_type": "code",
   "execution_count": 18,
   "id": "745aa03e-bfdd-4103-9224-510838c86522",
   "metadata": {},
   "outputs": [],
   "source": [
    "belief = Belief()\n",
    "hello_action = HelloWorld(usage=\"performing hello world\", belief=belief)\n",
    "addition_action = Addition(belief=belief)\n",
    "\n",
    "action_map = {\n",
    "    hello_action.name: hello_action,\n",
    "    addition_action.name: addition_action\n",
    "}"
   ]
  },
  {
   "cell_type": "code",
   "execution_count": 20,
   "id": "2f512a8c-3ccb-4c62-9706-eff26f590b5c",
   "metadata": {},
   "outputs": [
    {
     "name": "stdout",
     "output_type": "stream",
     "text": [
      "---\n",
      "State Machine\n",
      "---\n",
      "stateDiagram-v2\n",
      "  direction LR\n",
      "  classDef s_default fill:white,color:black\n",
      "  classDef s_inactive fill:white,color:black\n",
      "  classDef s_parallel color:black,fill:white\n",
      "  classDef s_active color:red,fill:darksalmon\n",
      "  classDef s_previous color:blue,fill:azure\n",
      "  \n",
      "  state \"HelloWorld\" as HelloWorld\n",
      "  Class HelloWorld s_active\n",
      "  state \"Calculate\" as Calculate\n",
      "  Class Calculate s_default\n",
      "  state \"Done\" as Done\n",
      "  Class Done s_default\n",
      "  \n",
      "  HelloWorld --> Calculate: do_hello_world\n",
      "  HelloWorld --> Done: do_nothing\n",
      "  Calculate --> Done: add_numbers\n",
      "  [*] --> HelloWorld\n"
     ]
    }
   ],
   "source": [
    "sm = SherpaStateMachine(\n",
    "    states=states,\n",
    "    transitions=transitions,\n",
    "    initial=initial,\n",
    "    action_map=action_map,\n",
    "    sm_cls=HierarchicalGraphMachine,\n",
    ")\n",
    "belief.state_machine = sm\n",
    "print(sm.sm.get_graph().draw(None))"
   ]
  },
  {
   "cell_type": "code",
   "execution_count": 22,
   "id": "a888c833-36dd-4792-8903-0959db7b8760",
   "metadata": {},
   "outputs": [
    {
     "data": {
      "text/plain": [
       "[{\n",
       "     \"name\": \"do_hello_world\",\n",
       "     \"args\": {\n",
       "         \"name\": \"the name of the person doing hello world (str)\"\n",
       "     },\n",
       "     \"usage\": \"performing hello world Transit the state from HelloWorld to Calculate\"\n",
       " },\n",
       " {\n",
       "     \"name\": \"do_nothing\",\n",
       "     \"args\": {},\n",
       "     \"usage\": \"do_nothing Transit the state from HelloWorld to Done\"\n",
       " }]"
      ]
     },
     "execution_count": 22,
     "metadata": {},
     "output_type": "execute_result"
    }
   ],
   "source": [
    "belief.get_actions()"
   ]
  },
  {
   "cell_type": "code",
   "execution_count": 24,
   "id": "be7f03f9-cfeb-409f-977d-1be1ffe93eb6",
   "metadata": {},
   "outputs": [],
   "source": [
    "belief.set_current_task(Event(EventType.task, \"user\", \"User is Gunter. 10. 20.\"))"
   ]
  },
  {
   "cell_type": "code",
   "execution_count": 26,
   "id": "1425b963-6c37-4126-8051-f2851567e3f6",
   "metadata": {},
   "outputs": [
    {
     "data": {
      "text/plain": [
       "[\"do_hello_world: EventType.action - Action: do_hello_world starts, Args: {'name': 'Gunter'}\",\n",
       " 'do_hello_world: EventType.action_output - Action: do_hello_world finishes, Observation: Gunter',\n",
       " \"add_numbers: EventType.action - Action: add_numbers starts, Args: {'num1': 10, 'num2': 20}\",\n",
       " 'add_numbers: EventType.action_output - Action: add_numbers finishes, Observation: 30']"
      ]
     },
     "execution_count": 26,
     "metadata": {},
     "output_type": "execute_result"
    }
   ],
   "source": [
    "[str(event) for event in belief.internal_events]"
   ]
  },
  {
   "cell_type": "code",
   "execution_count": 27,
   "id": "17f7d045-f8bd-421a-b47c-036936a4428a",
   "metadata": {},
   "outputs": [
    {
     "data": {
      "text/plain": [
       "{'print_hello_world': 'Gunter', 'perform_addition': 30}"
      ]
     },
     "execution_count": 27,
     "metadata": {},
     "output_type": "execute_result"
    }
   ],
   "source": [
    "belief.dict"
   ]
  },
  {
   "cell_type": "code",
   "execution_count": 28,
   "id": "02c7b814-10b3-44ea-8c48-b99b416e71d9",
   "metadata": {},
   "outputs": [
    {
     "data": {
      "text/plain": [
       "[]"
      ]
     },
     "execution_count": 28,
     "metadata": {},
     "output_type": "execute_result"
    }
   ],
   "source": [
    "belief.get_actions()"
   ]
  },
  {
   "cell_type": "code",
   "execution_count": 60,
   "id": "369ee671-ed5a-4d1a-ac1d-9150421001f5",
   "metadata": {},
   "outputs": [
    {
     "data": {
      "text/plain": [
       "'HelloWorld'"
      ]
     },
     "execution_count": 60,
     "metadata": {},
     "output_type": "execute_result"
    }
   ],
   "source": [
    "belief.state_machine.state"
   ]
  },
  {
   "cell_type": "code",
   "execution_count": null,
   "id": "24ae1cec-5232-44b6-a768-e3edbe8f387a",
   "metadata": {},
   "outputs": [],
   "source": []
  }
 ],
 "metadata": {
  "kernelspec": {
   "display_name": "Python 3 (ipykernel)",
   "language": "python",
   "name": "python3"
  },
  "language_info": {
   "codemirror_mode": {
    "name": "ipython",
    "version": 3
   },
   "file_extension": ".py",
   "mimetype": "text/x-python",
   "name": "python",
   "nbconvert_exporter": "python",
   "pygments_lexer": "ipython3",
   "version": "3.10.15"
  }
 },
 "nbformat": 4,
 "nbformat_minor": 5
}
