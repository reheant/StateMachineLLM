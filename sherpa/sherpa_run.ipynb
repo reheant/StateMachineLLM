{
 "cells": [
  {
   "cell_type": "code",
   "execution_count": 8,
   "id": "6c2ee0dd-1ceb-4a67-a8b6-e721b1ea77d3",
   "metadata": {},
   "outputs": [
    {
     "name": "stdout",
     "output_type": "stream",
     "text": [
      "The autoreload extension is already loaded. To reload it, use:\n",
      "  %reload_ext autoreload\n"
     ]
    }
   ],
   "source": [
    "%load_ext autoreload\n",
    "%autoreload 2"
   ]
  },
  {
   "cell_type": "code",
   "execution_count": 9,
   "id": "00085e71-13f2-4948-88b3-483f6ad48a02",
   "metadata": {},
   "outputs": [],
   "source": [
    "from sherpa_ai.memory.belief import BaseAction\n",
    "from sherpa_ai.memory.state_machine import SherpaStateMachine\n",
    "from transitions.extensions import HierarchicalGraphMachine"
   ]
  },
  {
   "cell_type": "code",
   "execution_count": 15,
   "id": "ac989313-d354-4f51-b5e5-3032efa131d8",
   "metadata": {},
   "outputs": [],
   "source": [
    "states = [\"initial\", \"events_states\", \"parallel_states\",\n",
    "          \"transitions_guards\", \"actions\", \"hierarchical_states\",\n",
    "          \"history_state\", \"sanity_check\", \"final\"]\n",
    "initial = \"initial\"\n",
    "transitions = [\n",
    "    {\n",
    "        \"trigger\": \"start\",\n",
    "        \"source\": \"initial\",\n",
    "        \"dest\": \"event_states\",\n",
    "    },\n",
    "\n",
    "    {\n",
    "        \"trigger\": \"find_parallel\",\n",
    "        \"source\": \"event_states\",\n",
    "        \"dest\": \"parallel_states\",\n",
    "    },\n",
    "    \n",
    "    {\n",
    "        \"trigger\": \"find_transitions\",\n",
    "        \"source\": \"parallel_states\",\n",
    "        \"dest\": \"transitions_guards\",\n",
    "    },\n",
    "\n",
    "    {\n",
    "        \"trigger\": \"find_actions\",\n",
    "        \"source\": \"transitions_guards\",\n",
    "        \"dest\": \"actions\",\n",
    "    },\n",
    "\n",
    "    {\n",
    "        \"trigger\": \"find_hierarchical\",\n",
    "        \"source\": \"actions\",\n",
    "        \"dest\": \"hierarchical_states\",\n",
    "    },\n",
    "    {\n",
    "        \"trigger\": \"find_history\",\n",
    "        \"source\": \"hierarchical_states\",\n",
    "        \"dest\": \"history_state\",\n",
    "    },\n",
    "\n",
    "    {\n",
    "        \"trigger\": \"sanity\",\n",
    "        \"source\": \"history_state\",\n",
    "        \"dest\": \"sanity_check\",\n",
    "    },\n",
    "    {\n",
    "        \"trigger\": \"final\",\n",
    "        \"source\": \"sanity_check\",\n",
    "        \"dest\": \"final\",\n",
    "    },\n",
    "]"
   ]
  },
  {
   "cell_type": "code",
   "execution_count": 16,
   "id": "62c84bdb-f842-4274-aab6-d7b589315fcb",
   "metadata": {},
   "outputs": [],
   "source": [
    "action_map = {}"
   ]
  },
  {
   "cell_type": "code",
   "execution_count": 17,
   "id": "c7e0376a-1229-4a14-8991-4aaba0a4b77b",
   "metadata": {},
   "outputs": [],
   "source": [
    "sm = SherpaStateMachine(\n",
    "        states=states,\n",
    "        transitions=transitions,\n",
    "        initial=initial,\n",
    "        action_map=action_map,\n",
    "        sm_cls=HierarchicalGraphMachine,\n",
    ")"
   ]
  },
  {
   "cell_type": "code",
   "execution_count": 18,
   "id": "d635f536-1b53-4ca6-b5e1-31959288dd63",
   "metadata": {},
   "outputs": [
    {
     "name": "stdout",
     "output_type": "stream",
     "text": [
      "---\n",
      "State Machine\n",
      "---\n",
      "stateDiagram-v2\n",
      "  direction LR\n",
      "  classDef s_default fill:white,color:black\n",
      "  classDef s_inactive fill:white,color:black\n",
      "  classDef s_parallel color:black,fill:white\n",
      "  classDef s_active color:red,fill:darksalmon\n",
      "  classDef s_previous color:blue,fill:azure\n",
      "  \n",
      "  state \"initial\" as initial\n",
      "  Class initial s_active\n",
      "  state \"events\" as events\n",
      "  Class events s_default\n",
      "  state events {\n",
      "    state \"states\" as events_states\n",
      "  }\n",
      "  state \"parallel\" as parallel\n",
      "  Class parallel s_default\n",
      "  state parallel {\n",
      "    state \"states\" as parallel_states\n",
      "  }\n",
      "  state \"transitions\" as transitions\n",
      "  Class transitions s_default\n",
      "  state transitions {\n",
      "    state \"guards\" as transitions_guards\n",
      "  }\n",
      "  state \"actions\" as actions\n",
      "  Class actions s_default\n",
      "  state \"hierarchical\" as hierarchical\n",
      "  Class hierarchical s_default\n",
      "  state hierarchical {\n",
      "    state \"states\" as hierarchical_states\n",
      "  }\n",
      "  state \"history\" as history\n",
      "  Class history s_default\n",
      "  state history {\n",
      "    state \"state\" as history_state\n",
      "  }\n",
      "  state \"sanity\" as sanity\n",
      "  Class sanity s_default\n",
      "  state sanity {\n",
      "    state \"check\" as sanity_check\n",
      "  }\n",
      "  state \"final\" as final\n",
      "  Class final s_default\n",
      "  \n",
      "  initial --> event_states: start\n",
      "  event_states --> parallel_states: find_parallel\n",
      "  parallel_states --> transitions_guards: find_transitions\n",
      "  transitions_guards --> actions: find_actions\n",
      "  actions --> hierarchical_states: find_hierarchical\n",
      "  hierarchical_states --> history_state: find_history\n",
      "  history_state --> sanity_check: sanity\n",
      "  sanity_check --> final: final\n",
      "  [*] --> initial\n"
     ]
    }
   ],
   "source": [
    "print(sm.sm.get_graph().draw(None))"
   ]
  },
  {
   "cell_type": "code",
   "execution_count": null,
   "id": "a0061278-6a56-4475-9988-f0e040ffbd6d",
   "metadata": {},
   "outputs": [],
   "source": []
  }
 ],
 "metadata": {
  "kernelspec": {
   "display_name": "Python 3 (ipykernel)",
   "language": "python",
   "name": "python3"
  },
  "language_info": {
   "codemirror_mode": {
    "name": "ipython",
    "version": 3
   },
   "file_extension": ".py",
   "mimetype": "text/x-python",
   "name": "python",
   "nbconvert_exporter": "python",
   "pygments_lexer": "ipython3",
   "version": "3.10.15"
  }
 },
 "nbformat": 4,
 "nbformat_minor": 5
}
